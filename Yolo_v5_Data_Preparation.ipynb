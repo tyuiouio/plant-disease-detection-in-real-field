{
  "nbformat": 4,
  "nbformat_minor": 0,
  "metadata": {
    "kernelspec": {
      "display_name": "Python 3",
      "language": "python",
      "name": "python3"
    },
    "language_info": {
      "codemirror_mode": {
        "name": "ipython",
        "version": 3
      },
      "file_extension": ".py",
      "mimetype": "text/x-python",
      "name": "python",
      "nbconvert_exporter": "python",
      "pygments_lexer": "ipython3",
      "version": "3.7.6"
    },
    "colab": {
      "name": "Yolo_v5_Data_Preparation.ipynb",
      "provenance": []
    }
  },
  "cells": [
    {
      "cell_type": "code",
      "metadata": {
        "colab": {
          "base_uri": "https://localhost:8080/"
        },
        "id": "toPIsiV9UfjB",
        "outputId": "7c8ab5eb-ee69-4dc5-c7a0-e17f00c8ed33"
      },
      "source": [
        "from google.colab import drive\n",
        "drive.mount('/content/drive',force_remount=True)"
      ],
      "execution_count": null,
      "outputs": [
        {
          "output_type": "stream",
          "text": [
            "Mounted at /content/drive\n"
          ],
          "name": "stdout"
        }
      ]
    },
    {
      "cell_type": "code",
      "metadata": {
        "id": "iJP2x0cn-gci"
      },
      "source": [
        "import shutil\n",
        "import os\n",
        "import pandas as pd\n",
        "import cv2\n",
        "import pydicom\n",
        "import numpy as np"
      ],
      "execution_count": null,
      "outputs": []
    },
    {
      "cell_type": "code",
      "metadata": {
        "id": "6PHIQGDf-gcn",
        "outputId": "6aec8799-18dc-43c8-c788-ba77ecde8b79"
      },
      "source": [
        "# This file contains the image names and their class labels\n",
        "\n",
        "df1 = pd.read_csv('D://YOLO-Vidya//stage_2_detailed_class_info.csv')\n",
        "df1"
      ],
      "execution_count": null,
      "outputs": [
        {
          "output_type": "execute_result",
          "data": {
            "text/html": [
              "<div>\n",
              "<style scoped>\n",
              "    .dataframe tbody tr th:only-of-type {\n",
              "        vertical-align: middle;\n",
              "    }\n",
              "\n",
              "    .dataframe tbody tr th {\n",
              "        vertical-align: top;\n",
              "    }\n",
              "\n",
              "    .dataframe thead th {\n",
              "        text-align: right;\n",
              "    }\n",
              "</style>\n",
              "<table border=\"1\" class=\"dataframe\">\n",
              "  <thead>\n",
              "    <tr style=\"text-align: right;\">\n",
              "      <th></th>\n",
              "      <th>patientId</th>\n",
              "      <th>class</th>\n",
              "    </tr>\n",
              "  </thead>\n",
              "  <tbody>\n",
              "    <tr>\n",
              "      <th>0</th>\n",
              "      <td>0004cfab-14fd-4e49-80ba-63a80b6bddd6</td>\n",
              "      <td>No Lung Opacity / Not Normal</td>\n",
              "    </tr>\n",
              "    <tr>\n",
              "      <th>1</th>\n",
              "      <td>00313ee0-9eaa-42f4-b0ab-c148ed3241cd</td>\n",
              "      <td>No Lung Opacity / Not Normal</td>\n",
              "    </tr>\n",
              "    <tr>\n",
              "      <th>2</th>\n",
              "      <td>00322d4d-1c29-4943-afc9-b6754be640eb</td>\n",
              "      <td>No Lung Opacity / Not Normal</td>\n",
              "    </tr>\n",
              "    <tr>\n",
              "      <th>3</th>\n",
              "      <td>003d8fa0-6bf1-40ed-b54c-ac657f8495c5</td>\n",
              "      <td>Normal</td>\n",
              "    </tr>\n",
              "    <tr>\n",
              "      <th>4</th>\n",
              "      <td>00436515-870c-4b36-a041-de91049b9ab4</td>\n",
              "      <td>Lung Opacity</td>\n",
              "    </tr>\n",
              "    <tr>\n",
              "      <th>...</th>\n",
              "      <td>...</td>\n",
              "      <td>...</td>\n",
              "    </tr>\n",
              "    <tr>\n",
              "      <th>30222</th>\n",
              "      <td>c1ec14ff-f6d7-4b38-b0cb-fe07041cbdc8</td>\n",
              "      <td>Lung Opacity</td>\n",
              "    </tr>\n",
              "    <tr>\n",
              "      <th>30223</th>\n",
              "      <td>c1edf42b-5958-47ff-a1e7-4f23d99583ba</td>\n",
              "      <td>Normal</td>\n",
              "    </tr>\n",
              "    <tr>\n",
              "      <th>30224</th>\n",
              "      <td>c1f6b555-2eb1-4231-98f6-50a963976431</td>\n",
              "      <td>Normal</td>\n",
              "    </tr>\n",
              "    <tr>\n",
              "      <th>30225</th>\n",
              "      <td>c1f7889a-9ea9-4acb-b64c-b737c929599a</td>\n",
              "      <td>Lung Opacity</td>\n",
              "    </tr>\n",
              "    <tr>\n",
              "      <th>30226</th>\n",
              "      <td>c1f7889a-9ea9-4acb-b64c-b737c929599a</td>\n",
              "      <td>Lung Opacity</td>\n",
              "    </tr>\n",
              "  </tbody>\n",
              "</table>\n",
              "<p>30227 rows × 2 columns</p>\n",
              "</div>"
            ],
            "text/plain": [
              "                                  patientId                         class\n",
              "0      0004cfab-14fd-4e49-80ba-63a80b6bddd6  No Lung Opacity / Not Normal\n",
              "1      00313ee0-9eaa-42f4-b0ab-c148ed3241cd  No Lung Opacity / Not Normal\n",
              "2      00322d4d-1c29-4943-afc9-b6754be640eb  No Lung Opacity / Not Normal\n",
              "3      003d8fa0-6bf1-40ed-b54c-ac657f8495c5                        Normal\n",
              "4      00436515-870c-4b36-a041-de91049b9ab4                  Lung Opacity\n",
              "...                                     ...                           ...\n",
              "30222  c1ec14ff-f6d7-4b38-b0cb-fe07041cbdc8                  Lung Opacity\n",
              "30223  c1edf42b-5958-47ff-a1e7-4f23d99583ba                        Normal\n",
              "30224  c1f6b555-2eb1-4231-98f6-50a963976431                        Normal\n",
              "30225  c1f7889a-9ea9-4acb-b64c-b737c929599a                  Lung Opacity\n",
              "30226  c1f7889a-9ea9-4acb-b64c-b737c929599a                  Lung Opacity\n",
              "\n",
              "[30227 rows x 2 columns]"
            ]
          },
          "metadata": {
            "tags": []
          },
          "execution_count": 67
        }
      ]
    },
    {
      "cell_type": "code",
      "metadata": {
        "id": "DhGhgPQI-gcp"
      },
      "source": [
        "# Taking the row position of the images which belong to the class No Lung Opacity / Not Normal\n",
        "index= df1[df1['class']=='No Lung Opacity / Not Normal'].index"
      ],
      "execution_count": null,
      "outputs": []
    },
    {
      "cell_type": "code",
      "metadata": {
        "id": "0IdV13c1-gcp"
      },
      "source": [
        "#dropping the third class No Lung Opacity / Not Normal\n",
        "df1.drop(index,inplace=True)"
      ],
      "execution_count": null,
      "outputs": []
    },
    {
      "cell_type": "code",
      "metadata": {
        "id": "Vt_4cJcl-gcp",
        "outputId": "341bdfe3-9951-4ad0-e592-6918c7c233d7"
      },
      "source": [
        "df1"
      ],
      "execution_count": null,
      "outputs": [
        {
          "output_type": "execute_result",
          "data": {
            "text/html": [
              "<div>\n",
              "<style scoped>\n",
              "    .dataframe tbody tr th:only-of-type {\n",
              "        vertical-align: middle;\n",
              "    }\n",
              "\n",
              "    .dataframe tbody tr th {\n",
              "        vertical-align: top;\n",
              "    }\n",
              "\n",
              "    .dataframe thead th {\n",
              "        text-align: right;\n",
              "    }\n",
              "</style>\n",
              "<table border=\"1\" class=\"dataframe\">\n",
              "  <thead>\n",
              "    <tr style=\"text-align: right;\">\n",
              "      <th></th>\n",
              "      <th>patientId</th>\n",
              "      <th>class</th>\n",
              "    </tr>\n",
              "  </thead>\n",
              "  <tbody>\n",
              "    <tr>\n",
              "      <th>3</th>\n",
              "      <td>003d8fa0-6bf1-40ed-b54c-ac657f8495c5</td>\n",
              "      <td>Normal</td>\n",
              "    </tr>\n",
              "    <tr>\n",
              "      <th>4</th>\n",
              "      <td>00436515-870c-4b36-a041-de91049b9ab4</td>\n",
              "      <td>Lung Opacity</td>\n",
              "    </tr>\n",
              "    <tr>\n",
              "      <th>5</th>\n",
              "      <td>00436515-870c-4b36-a041-de91049b9ab4</td>\n",
              "      <td>Lung Opacity</td>\n",
              "    </tr>\n",
              "    <tr>\n",
              "      <th>8</th>\n",
              "      <td>00704310-78a8-4b38-8475-49f4573b2dbb</td>\n",
              "      <td>Lung Opacity</td>\n",
              "    </tr>\n",
              "    <tr>\n",
              "      <th>9</th>\n",
              "      <td>00704310-78a8-4b38-8475-49f4573b2dbb</td>\n",
              "      <td>Lung Opacity</td>\n",
              "    </tr>\n",
              "    <tr>\n",
              "      <th>...</th>\n",
              "      <td>...</td>\n",
              "      <td>...</td>\n",
              "    </tr>\n",
              "    <tr>\n",
              "      <th>30222</th>\n",
              "      <td>c1ec14ff-f6d7-4b38-b0cb-fe07041cbdc8</td>\n",
              "      <td>Lung Opacity</td>\n",
              "    </tr>\n",
              "    <tr>\n",
              "      <th>30223</th>\n",
              "      <td>c1edf42b-5958-47ff-a1e7-4f23d99583ba</td>\n",
              "      <td>Normal</td>\n",
              "    </tr>\n",
              "    <tr>\n",
              "      <th>30224</th>\n",
              "      <td>c1f6b555-2eb1-4231-98f6-50a963976431</td>\n",
              "      <td>Normal</td>\n",
              "    </tr>\n",
              "    <tr>\n",
              "      <th>30225</th>\n",
              "      <td>c1f7889a-9ea9-4acb-b64c-b737c929599a</td>\n",
              "      <td>Lung Opacity</td>\n",
              "    </tr>\n",
              "    <tr>\n",
              "      <th>30226</th>\n",
              "      <td>c1f7889a-9ea9-4acb-b64c-b737c929599a</td>\n",
              "      <td>Lung Opacity</td>\n",
              "    </tr>\n",
              "  </tbody>\n",
              "</table>\n",
              "<p>18406 rows × 2 columns</p>\n",
              "</div>"
            ],
            "text/plain": [
              "                                  patientId         class\n",
              "3      003d8fa0-6bf1-40ed-b54c-ac657f8495c5        Normal\n",
              "4      00436515-870c-4b36-a041-de91049b9ab4  Lung Opacity\n",
              "5      00436515-870c-4b36-a041-de91049b9ab4  Lung Opacity\n",
              "8      00704310-78a8-4b38-8475-49f4573b2dbb  Lung Opacity\n",
              "9      00704310-78a8-4b38-8475-49f4573b2dbb  Lung Opacity\n",
              "...                                     ...           ...\n",
              "30222  c1ec14ff-f6d7-4b38-b0cb-fe07041cbdc8  Lung Opacity\n",
              "30223  c1edf42b-5958-47ff-a1e7-4f23d99583ba        Normal\n",
              "30224  c1f6b555-2eb1-4231-98f6-50a963976431        Normal\n",
              "30225  c1f7889a-9ea9-4acb-b64c-b737c929599a  Lung Opacity\n",
              "30226  c1f7889a-9ea9-4acb-b64c-b737c929599a  Lung Opacity\n",
              "\n",
              "[18406 rows x 2 columns]"
            ]
          },
          "metadata": {
            "tags": []
          },
          "execution_count": 70
        }
      ]
    },
    {
      "cell_type": "code",
      "metadata": {
        "id": "y7uBp-ZR-gcq",
        "outputId": "eee4565b-cfd6-4547-c2f4-b834f5277d3f"
      },
      "source": [
        "df1['class'].value_counts()"
      ],
      "execution_count": null,
      "outputs": [
        {
          "output_type": "execute_result",
          "data": {
            "text/plain": [
              "Lung Opacity    9555\n",
              "Normal          8851\n",
              "Name: class, dtype: int64"
            ]
          },
          "metadata": {
            "tags": []
          },
          "execution_count": 71
        }
      ]
    },
    {
      "cell_type": "code",
      "metadata": {
        "id": "RQVD7-KW-gcq"
      },
      "source": [
        "#Getting Image names of the 2 classes. There will be duplicates as there are multiple bounding boxes for single images.\n",
        "# Hence removing the duplicates\n",
        "PatientID = list(set(df1['patientId'].values))"
      ],
      "execution_count": null,
      "outputs": []
    },
    {
      "cell_type": "code",
      "metadata": {
        "id": "oGRXYBub-gcq",
        "outputId": "ea2e2d5b-bbb8-40fe-bc0d-5058cfc0eae8"
      },
      "source": [
        "PatientID[0:5]"
      ],
      "execution_count": null,
      "outputs": [
        {
          "output_type": "execute_result",
          "data": {
            "text/plain": [
              "['5039abb8-29f6-4e8a-92e6-fbcb74804a7e',\n",
              " '5eb5e5a8-076b-4bf8-ae80-26f6334e8790',\n",
              " '5b9fb157-f24d-4d07-abbc-bdf3356e1b29',\n",
              " '9e6239f2-9352-4bad-a19a-22538ddd0e27',\n",
              " '5a127388-ca5d-45a3-b0b5-1f925270d98c']"
            ]
          },
          "metadata": {
            "tags": []
          },
          "execution_count": 73
        }
      ]
    },
    {
      "cell_type": "code",
      "metadata": {
        "id": "RPFsk8Ns-gcr"
      },
      "source": [
        "# List of images with all three classes in training set\n",
        "train_images_old = os.listdir('D://YOLO-Vidya//train')"
      ],
      "execution_count": null,
      "outputs": []
    },
    {
      "cell_type": "code",
      "metadata": {
        "id": "FmPGloNN-gcr",
        "outputId": "de94a895-7330-445f-a089-2fc99f0ca06f"
      },
      "source": [
        "train_images_old[0:5]"
      ],
      "execution_count": null,
      "outputs": [
        {
          "output_type": "execute_result",
          "data": {
            "text/plain": [
              "['0000a175-0e68-4ca4-b1af-167204a7e0bc.dcm',\n",
              " '0005d3cc-3c3f-40b9-93c3-46231c3eb813.dcm',\n",
              " '000686d7-f4fc-448d-97a0-44fa9c5d3aa6.dcm',\n",
              " '000e3a7d-c0ca-4349-bb26-5af2d8993c3d.dcm',\n",
              " '00100a24-854d-423d-a092-edcf6179e061.dcm']"
            ]
          },
          "metadata": {
            "tags": []
          },
          "execution_count": 62
        }
      ]
    },
    {
      "cell_type": "code",
      "metadata": {
        "id": "bEoCI7fg-gcs"
      },
      "source": [
        "src_train = \"D://YOLO-Vidya//train\"\n",
        "dest_train = \"D://YOLO-Vidya//train_new\"\n",
        "\n",
        "# Move only the 2 classes from original training directory to another directory\n",
        "for img_name in PatientID:\n",
        "    img_name = img_name+'.dcm'\n",
        "    if img_name in train_images_old:\n",
        "        shutil.move(src_train+\"//\"+img_name,dest_train)\n",
        "    else:\n",
        "        print(f'Image not found - {img_name}')"
      ],
      "execution_count": null,
      "outputs": []
    },
    {
      "cell_type": "code",
      "metadata": {
        "id": "GBLolndE-gcs"
      },
      "source": [
        "#Convert all .dcm images to .jpg/.png images\n",
        "\n",
        "PNG = False\n",
        "# Specify the .dcm folder path\n",
        "folder_path = \"D://YOLO-Vidya//train_new\"\n",
        "# Specify the output jpg/png folder path\n",
        "jpg_folder_path = \"D://YOLO-Vidya//converted_train_images\"\n",
        "images_path = os.listdir(folder_path)\n",
        "for n, image in enumerate(images_path):\n",
        "    ds = pydicom.dcmread(os.path.join(folder_path, image))\n",
        "    pixel_array_numpy = ds.pixel_array\n",
        "    if PNG == False:\n",
        "        image = image.replace('.dcm', '.jpg')\n",
        "    else:\n",
        "        image = image.replace('.dcm', '.png')\n",
        "    cv2.imwrite(os.path.join(jpg_folder_path, image), pixel_array_numpy)"
      ],
      "execution_count": null,
      "outputs": []
    },
    {
      "cell_type": "code",
      "metadata": {
        "id": "bl07SCY4-gcs"
      },
      "source": [
        "# Now from the images directory containing two classes, identify the Normal and Pneumonia and move them into separate folders\n",
        "\n",
        "def move_images_as_per_label(path,images):\n",
        "    for image in images:\n",
        "        img = image[:-4]\n",
        "        classes = list(set(df1[df1['patientId']==img]['class']))\n",
        "        if classes[0] == 'Lung Opacity':\n",
        "            shutil.move(path+\"//\"+image,path+\"//Pneumonia\")\n",
        "        else:\n",
        "            shutil.move(path+\"//\"+image,path+\"//Normal\")"
      ],
      "execution_count": null,
      "outputs": []
    },
    {
      "cell_type": "code",
      "metadata": {
        "id": "P4l3ipqC-gct"
      },
      "source": [
        "img_path = \"D://YOLO-Vidya//All_jpg_images\"\n",
        "images = os.listdir(\"D://YOLO-Vidya//All_jpg_images\")"
      ],
      "execution_count": null,
      "outputs": []
    },
    {
      "cell_type": "code",
      "metadata": {
        "id": "kuwwIeIu-gct"
      },
      "source": [
        "move_images_as_per_label(img_path,images)"
      ],
      "execution_count": null,
      "outputs": []
    },
    {
      "cell_type": "code",
      "metadata": {
        "id": "O2g2B_ie-gct"
      },
      "source": [
        "Pneumonia_images = os.listdir(img_path+\"//Pneumonia\")\n",
        "Normal_images = os.listdir(img_path+\"//Normal\")\n",
        "\n",
        "train_path = \"D://YOLO-Vidya//train\"\n",
        "valid_path = \"D://YOLO-Vidya//valid\""
      ],
      "execution_count": null,
      "outputs": []
    },
    {
      "cell_type": "code",
      "metadata": {
        "id": "oK1eF3TG-gct"
      },
      "source": [
        "# do a 80/20 split of these Pneumonia images and normal images\n",
        "# Move 80 percent of Pnuemonia and Normal images into training folder\n",
        "# Move 20 percent of images into validation folder\n",
        "\n",
        "train_set = Pneumonia_images[:round(len(Pneumonia_images)*0.8)]\n",
        "train_set.extend(Normal_images[:round(len(Normal_images)*0.8)])\n",
        "\n",
        "for image in train_set:\n",
        "    if os.path.exists(img_path+\"//Pneumonia//\"+image):\n",
        "        shutil.move(img_path+\"//Pneumonia//\"+image,train_path)\n",
        "    elif os.path.exists(img_path+\"//Normal//\"+image):\n",
        "        shutil.move(img_path+\"//Normal//\"+image,train_path)"
      ],
      "execution_count": null,
      "outputs": []
    },
    {
      "cell_type": "code",
      "metadata": {
        "id": "aOETvgnI-gct",
        "outputId": "c54991cc-e78a-40e8-c68e-198f07600f0b"
      },
      "source": [
        "Pneumonia_images = os.listdir(img_path+\"//Pneumonia\")\n",
        "Normal_images = os.listdir(img_path+\"//Normal\")\n",
        "\n",
        "len(Normal_images)"
      ],
      "execution_count": null,
      "outputs": [
        {
          "output_type": "execute_result",
          "data": {
            "text/plain": [
              "1770"
            ]
          },
          "metadata": {
            "tags": []
          },
          "execution_count": 143
        }
      ]
    },
    {
      "cell_type": "code",
      "metadata": {
        "id": "rnWA4tev-gcu"
      },
      "source": [
        "for img in Pneumonia_images:\n",
        "    shutil.move(img_path+\"//Pneumonia//\"+img,valid_path)\n",
        "    \n",
        "for img in Normal_images:\n",
        "    shutil.move(img_path+\"//Normal//\"+img,valid_path)"
      ],
      "execution_count": null,
      "outputs": []
    },
    {
      "cell_type": "code",
      "metadata": {
        "id": "bCIk5P8j-gcu"
      },
      "source": [
        "\"\"\"To train the Yolo-v5 model, we need to organize our dataset structure and it requires images (.jpg/.png, etc.,) \n",
        "and it’s corresponding labels in .txt format.\n",
        "\n",
        "STRUCTURE OF .txt FILE :\n",
        "- One row per object.\n",
        "- Each row is class x_center y_center width height format.\n",
        "- Box coordinates must be in normalized xywh format (from 0–1). If your boxes are in pixels, divide x_center and width by image width, and y_center and height by image height.\n",
        "- Class numbers are zero-indexed (start from 0)\n",
        "\n",
        "All our images are of fixed width and height. And I am just maintaining the same size\n",
        "\n",
        "In case of different sizes. Images and their coordinates have to be adjusted properly\n",
        "\n",
        "\"\"\"\n",
        "\n",
        "img_width = 1024\n",
        "img_height = 1024\n",
        "\n",
        "def x_center(df2):\n",
        "    if df2['width']==0:\n",
        "        return 0\n",
        "    else:\n",
        "        return int(df2['x'] + (df2['width']/2))\n",
        "def y_center(df2):\n",
        "    if df2['height']==0:\n",
        "        return 0\n",
        "    else:\n",
        "        return int(df2['y'] + (df2['height']/2))\n",
        "def w_norm(df2):\n",
        "    if df2['width']==0:\n",
        "        return 0\n",
        "    else:\n",
        "        return df2/img_width\n",
        "def h_norm(df):\n",
        "    if df2['height']==0:\n",
        "        return 0\n",
        "    else:\n",
        "        return df2/img_height\n",
        "\n",
        "df2 = pd.read_csv(\"D://YOLO-Vidya//stage_2_train_labels.csv\")\n",
        "\n",
        "df2 = df2.astype({\"x\":'int', \"y\":'int',\"width\":'int', \"height\":'int'}) \n",
        "\n",
        "df2['x_center'] = df2.apply(x_center, axis=1)\n",
        "df2['y_center'] = df2.apply(y_center, axis=1)\n",
        "\n",
        "df2['x_center_norm'] = df2['x_center'].apply(w_norm)\n",
        "df2['width_norm'] = df2['width'].apply(w_norm)\n",
        "\n",
        "df2['y_center_norm'] = df2['y_center'].apply(h_norm)\n",
        "df2['height_norm'] = df2['height'].apply(h_norm)"
      ],
      "execution_count": null,
      "outputs": []
    },
    {
      "cell_type": "code",
      "metadata": {
        "id": "gRJCYWUF-gcu",
        "outputId": "047f0fe6-7a3e-4fef-fb7e-a94a04b07e98"
      },
      "source": [
        "df2.head(30)"
      ],
      "execution_count": null,
      "outputs": [
        {
          "output_type": "execute_result",
          "data": {
            "text/html": [
              "<div>\n",
              "<style scoped>\n",
              "    .dataframe tbody tr th:only-of-type {\n",
              "        vertical-align: middle;\n",
              "    }\n",
              "\n",
              "    .dataframe tbody tr th {\n",
              "        vertical-align: top;\n",
              "    }\n",
              "\n",
              "    .dataframe thead th {\n",
              "        text-align: right;\n",
              "    }\n",
              "</style>\n",
              "<table border=\"1\" class=\"dataframe\">\n",
              "  <thead>\n",
              "    <tr style=\"text-align: right;\">\n",
              "      <th></th>\n",
              "      <th>patientId</th>\n",
              "      <th>x</th>\n",
              "      <th>y</th>\n",
              "      <th>width</th>\n",
              "      <th>height</th>\n",
              "      <th>Target</th>\n",
              "      <th>x_center</th>\n",
              "      <th>y_center</th>\n",
              "      <th>x_center_norm</th>\n",
              "      <th>width_norm</th>\n",
              "      <th>y_center_norm</th>\n",
              "      <th>height_norm</th>\n",
              "    </tr>\n",
              "  </thead>\n",
              "  <tbody>\n",
              "    <tr>\n",
              "      <th>0</th>\n",
              "      <td>0004cfab-14fd-4e49-80ba-63a80b6bddd6</td>\n",
              "      <td>0</td>\n",
              "      <td>0</td>\n",
              "      <td>0</td>\n",
              "      <td>0</td>\n",
              "      <td>0</td>\n",
              "      <td>0</td>\n",
              "      <td>0</td>\n",
              "      <td>0.00000</td>\n",
              "      <td>0.00000</td>\n",
              "      <td>0.00000</td>\n",
              "      <td>0.00000</td>\n",
              "    </tr>\n",
              "    <tr>\n",
              "      <th>1</th>\n",
              "      <td>00313ee0-9eaa-42f4-b0ab-c148ed3241cd</td>\n",
              "      <td>0</td>\n",
              "      <td>0</td>\n",
              "      <td>0</td>\n",
              "      <td>0</td>\n",
              "      <td>0</td>\n",
              "      <td>0</td>\n",
              "      <td>0</td>\n",
              "      <td>0.00000</td>\n",
              "      <td>0.00000</td>\n",
              "      <td>0.00000</td>\n",
              "      <td>0.00000</td>\n",
              "    </tr>\n",
              "    <tr>\n",
              "      <th>2</th>\n",
              "      <td>00322d4d-1c29-4943-afc9-b6754be640eb</td>\n",
              "      <td>0</td>\n",
              "      <td>0</td>\n",
              "      <td>0</td>\n",
              "      <td>0</td>\n",
              "      <td>0</td>\n",
              "      <td>0</td>\n",
              "      <td>0</td>\n",
              "      <td>0.00000</td>\n",
              "      <td>0.00000</td>\n",
              "      <td>0.00000</td>\n",
              "      <td>0.00000</td>\n",
              "    </tr>\n",
              "    <tr>\n",
              "      <th>3</th>\n",
              "      <td>003d8fa0-6bf1-40ed-b54c-ac657f8495c5</td>\n",
              "      <td>0</td>\n",
              "      <td>0</td>\n",
              "      <td>0</td>\n",
              "      <td>0</td>\n",
              "      <td>0</td>\n",
              "      <td>0</td>\n",
              "      <td>0</td>\n",
              "      <td>0.00000</td>\n",
              "      <td>0.00000</td>\n",
              "      <td>0.00000</td>\n",
              "      <td>0.00000</td>\n",
              "    </tr>\n",
              "    <tr>\n",
              "      <th>4</th>\n",
              "      <td>00436515-870c-4b36-a041-de91049b9ab4</td>\n",
              "      <td>264</td>\n",
              "      <td>152</td>\n",
              "      <td>213</td>\n",
              "      <td>379</td>\n",
              "      <td>1</td>\n",
              "      <td>370</td>\n",
              "      <td>341</td>\n",
              "      <td>0.22981</td>\n",
              "      <td>0.20481</td>\n",
              "      <td>0.25577</td>\n",
              "      <td>0.36442</td>\n",
              "    </tr>\n",
              "    <tr>\n",
              "      <th>5</th>\n",
              "      <td>00436515-870c-4b36-a041-de91049b9ab4</td>\n",
              "      <td>562</td>\n",
              "      <td>152</td>\n",
              "      <td>256</td>\n",
              "      <td>453</td>\n",
              "      <td>1</td>\n",
              "      <td>690</td>\n",
              "      <td>378</td>\n",
              "      <td>0.39327</td>\n",
              "      <td>0.24615</td>\n",
              "      <td>0.29135</td>\n",
              "      <td>0.43558</td>\n",
              "    </tr>\n",
              "    <tr>\n",
              "      <th>6</th>\n",
              "      <td>00569f44-917d-4c86-a842-81832af98c30</td>\n",
              "      <td>0</td>\n",
              "      <td>0</td>\n",
              "      <td>0</td>\n",
              "      <td>0</td>\n",
              "      <td>0</td>\n",
              "      <td>0</td>\n",
              "      <td>0</td>\n",
              "      <td>0.00000</td>\n",
              "      <td>0.00000</td>\n",
              "      <td>0.00000</td>\n",
              "      <td>0.00000</td>\n",
              "    </tr>\n",
              "    <tr>\n",
              "      <th>7</th>\n",
              "      <td>006cec2e-6ce2-4549-bffa-eadfcd1e9970</td>\n",
              "      <td>0</td>\n",
              "      <td>0</td>\n",
              "      <td>0</td>\n",
              "      <td>0</td>\n",
              "      <td>0</td>\n",
              "      <td>0</td>\n",
              "      <td>0</td>\n",
              "      <td>0.00000</td>\n",
              "      <td>0.00000</td>\n",
              "      <td>0.00000</td>\n",
              "      <td>0.00000</td>\n",
              "    </tr>\n",
              "    <tr>\n",
              "      <th>8</th>\n",
              "      <td>00704310-78a8-4b38-8475-49f4573b2dbb</td>\n",
              "      <td>323</td>\n",
              "      <td>577</td>\n",
              "      <td>160</td>\n",
              "      <td>104</td>\n",
              "      <td>1</td>\n",
              "      <td>403</td>\n",
              "      <td>629</td>\n",
              "      <td>0.23269</td>\n",
              "      <td>0.15385</td>\n",
              "      <td>0.32788</td>\n",
              "      <td>0.10000</td>\n",
              "    </tr>\n",
              "    <tr>\n",
              "      <th>9</th>\n",
              "      <td>00704310-78a8-4b38-8475-49f4573b2dbb</td>\n",
              "      <td>695</td>\n",
              "      <td>575</td>\n",
              "      <td>162</td>\n",
              "      <td>137</td>\n",
              "      <td>1</td>\n",
              "      <td>776</td>\n",
              "      <td>643</td>\n",
              "      <td>0.41250</td>\n",
              "      <td>0.15577</td>\n",
              "      <td>0.34231</td>\n",
              "      <td>0.13173</td>\n",
              "    </tr>\n",
              "    <tr>\n",
              "      <th>10</th>\n",
              "      <td>008c19e8-a820-403a-930a-bc74a4053664</td>\n",
              "      <td>0</td>\n",
              "      <td>0</td>\n",
              "      <td>0</td>\n",
              "      <td>0</td>\n",
              "      <td>0</td>\n",
              "      <td>0</td>\n",
              "      <td>0</td>\n",
              "      <td>0.00000</td>\n",
              "      <td>0.00000</td>\n",
              "      <td>0.00000</td>\n",
              "      <td>0.00000</td>\n",
              "    </tr>\n",
              "    <tr>\n",
              "      <th>11</th>\n",
              "      <td>009482dc-3db5-48d4-8580-5c89c4f01334</td>\n",
              "      <td>0</td>\n",
              "      <td>0</td>\n",
              "      <td>0</td>\n",
              "      <td>0</td>\n",
              "      <td>0</td>\n",
              "      <td>0</td>\n",
              "      <td>0</td>\n",
              "      <td>0.00000</td>\n",
              "      <td>0.00000</td>\n",
              "      <td>0.00000</td>\n",
              "      <td>0.00000</td>\n",
              "    </tr>\n",
              "    <tr>\n",
              "      <th>12</th>\n",
              "      <td>009eb222-eabc-4150-8121-d5a6d06b8ebf</td>\n",
              "      <td>0</td>\n",
              "      <td>0</td>\n",
              "      <td>0</td>\n",
              "      <td>0</td>\n",
              "      <td>0</td>\n",
              "      <td>0</td>\n",
              "      <td>0</td>\n",
              "      <td>0.00000</td>\n",
              "      <td>0.00000</td>\n",
              "      <td>0.00000</td>\n",
              "      <td>0.00000</td>\n",
              "    </tr>\n",
              "    <tr>\n",
              "      <th>13</th>\n",
              "      <td>00a85be6-6eb0-421d-8acf-ff2dc0007e8a</td>\n",
              "      <td>0</td>\n",
              "      <td>0</td>\n",
              "      <td>0</td>\n",
              "      <td>0</td>\n",
              "      <td>0</td>\n",
              "      <td>0</td>\n",
              "      <td>0</td>\n",
              "      <td>0.00000</td>\n",
              "      <td>0.00000</td>\n",
              "      <td>0.00000</td>\n",
              "      <td>0.00000</td>\n",
              "    </tr>\n",
              "    <tr>\n",
              "      <th>14</th>\n",
              "      <td>00aecb01-a116-45a2-956c-08d2fa55433f</td>\n",
              "      <td>288</td>\n",
              "      <td>322</td>\n",
              "      <td>94</td>\n",
              "      <td>135</td>\n",
              "      <td>1</td>\n",
              "      <td>335</td>\n",
              "      <td>389</td>\n",
              "      <td>0.18365</td>\n",
              "      <td>0.09038</td>\n",
              "      <td>0.22019</td>\n",
              "      <td>0.12981</td>\n",
              "    </tr>\n",
              "    <tr>\n",
              "      <th>15</th>\n",
              "      <td>00aecb01-a116-45a2-956c-08d2fa55433f</td>\n",
              "      <td>547</td>\n",
              "      <td>299</td>\n",
              "      <td>119</td>\n",
              "      <td>165</td>\n",
              "      <td>1</td>\n",
              "      <td>606</td>\n",
              "      <td>381</td>\n",
              "      <td>0.32019</td>\n",
              "      <td>0.11442</td>\n",
              "      <td>0.22308</td>\n",
              "      <td>0.15865</td>\n",
              "    </tr>\n",
              "    <tr>\n",
              "      <th>16</th>\n",
              "      <td>00c0b293-48e7-4e16-ac76-9269ba535a62</td>\n",
              "      <td>306</td>\n",
              "      <td>544</td>\n",
              "      <td>168</td>\n",
              "      <td>244</td>\n",
              "      <td>1</td>\n",
              "      <td>390</td>\n",
              "      <td>666</td>\n",
              "      <td>0.22788</td>\n",
              "      <td>0.16154</td>\n",
              "      <td>0.37885</td>\n",
              "      <td>0.23462</td>\n",
              "    </tr>\n",
              "    <tr>\n",
              "      <th>17</th>\n",
              "      <td>00c0b293-48e7-4e16-ac76-9269ba535a62</td>\n",
              "      <td>650</td>\n",
              "      <td>511</td>\n",
              "      <td>206</td>\n",
              "      <td>284</td>\n",
              "      <td>1</td>\n",
              "      <td>753</td>\n",
              "      <td>653</td>\n",
              "      <td>0.41154</td>\n",
              "      <td>0.19808</td>\n",
              "      <td>0.38269</td>\n",
              "      <td>0.27308</td>\n",
              "    </tr>\n",
              "    <tr>\n",
              "      <th>18</th>\n",
              "      <td>00d7c36e-3cdf-4df6-ac03-6c30cdc8e85b</td>\n",
              "      <td>0</td>\n",
              "      <td>0</td>\n",
              "      <td>0</td>\n",
              "      <td>0</td>\n",
              "      <td>0</td>\n",
              "      <td>0</td>\n",
              "      <td>0</td>\n",
              "      <td>0.00000</td>\n",
              "      <td>0.00000</td>\n",
              "      <td>0.00000</td>\n",
              "      <td>0.00000</td>\n",
              "    </tr>\n",
              "    <tr>\n",
              "      <th>19</th>\n",
              "      <td>00f08de1-517e-4652-a04f-d1dc9ee48593</td>\n",
              "      <td>181</td>\n",
              "      <td>184</td>\n",
              "      <td>206</td>\n",
              "      <td>506</td>\n",
              "      <td>1</td>\n",
              "      <td>284</td>\n",
              "      <td>437</td>\n",
              "      <td>0.18654</td>\n",
              "      <td>0.19808</td>\n",
              "      <td>0.33173</td>\n",
              "      <td>0.48654</td>\n",
              "    </tr>\n",
              "    <tr>\n",
              "      <th>20</th>\n",
              "      <td>00f08de1-517e-4652-a04f-d1dc9ee48593</td>\n",
              "      <td>571</td>\n",
              "      <td>275</td>\n",
              "      <td>230</td>\n",
              "      <td>476</td>\n",
              "      <td>1</td>\n",
              "      <td>686</td>\n",
              "      <td>513</td>\n",
              "      <td>0.38558</td>\n",
              "      <td>0.22115</td>\n",
              "      <td>0.36154</td>\n",
              "      <td>0.45769</td>\n",
              "    </tr>\n",
              "    <tr>\n",
              "      <th>21</th>\n",
              "      <td>00f87de5-5fe0-4921-93ea-914d7e683266</td>\n",
              "      <td>0</td>\n",
              "      <td>0</td>\n",
              "      <td>0</td>\n",
              "      <td>0</td>\n",
              "      <td>0</td>\n",
              "      <td>0</td>\n",
              "      <td>0</td>\n",
              "      <td>0.00000</td>\n",
              "      <td>0.00000</td>\n",
              "      <td>0.00000</td>\n",
              "      <td>0.00000</td>\n",
              "    </tr>\n",
              "    <tr>\n",
              "      <th>22</th>\n",
              "      <td>0100515c-5204-4f31-98e0-f35e4b00004a</td>\n",
              "      <td>703</td>\n",
              "      <td>416</td>\n",
              "      <td>84</td>\n",
              "      <td>77</td>\n",
              "      <td>1</td>\n",
              "      <td>745</td>\n",
              "      <td>454</td>\n",
              "      <td>0.37885</td>\n",
              "      <td>0.08077</td>\n",
              "      <td>0.23750</td>\n",
              "      <td>0.07404</td>\n",
              "    </tr>\n",
              "    <tr>\n",
              "      <th>23</th>\n",
              "      <td>01027bc3-dc40-4165-a6c3-d6be2cb7ca34</td>\n",
              "      <td>0</td>\n",
              "      <td>0</td>\n",
              "      <td>0</td>\n",
              "      <td>0</td>\n",
              "      <td>0</td>\n",
              "      <td>0</td>\n",
              "      <td>0</td>\n",
              "      <td>0.00000</td>\n",
              "      <td>0.00000</td>\n",
              "      <td>0.00000</td>\n",
              "      <td>0.00000</td>\n",
              "    </tr>\n",
              "    <tr>\n",
              "      <th>24</th>\n",
              "      <td>010ccb9f-6d46-4380-af11-84f87397a1b8</td>\n",
              "      <td>652</td>\n",
              "      <td>437</td>\n",
              "      <td>161</td>\n",
              "      <td>293</td>\n",
              "      <td>1</td>\n",
              "      <td>732</td>\n",
              "      <td>583</td>\n",
              "      <td>0.39135</td>\n",
              "      <td>0.15481</td>\n",
              "      <td>0.35096</td>\n",
              "      <td>0.28173</td>\n",
              "    </tr>\n",
              "    <tr>\n",
              "      <th>25</th>\n",
              "      <td>010ccb9f-6d46-4380-af11-84f87397a1b8</td>\n",
              "      <td>301</td>\n",
              "      <td>405</td>\n",
              "      <td>141</td>\n",
              "      <td>279</td>\n",
              "      <td>1</td>\n",
              "      <td>371</td>\n",
              "      <td>544</td>\n",
              "      <td>0.21250</td>\n",
              "      <td>0.13558</td>\n",
              "      <td>0.32885</td>\n",
              "      <td>0.26827</td>\n",
              "    </tr>\n",
              "    <tr>\n",
              "      <th>26</th>\n",
              "      <td>011d6f51-b732-4d45-a84d-90477325ef2d</td>\n",
              "      <td>0</td>\n",
              "      <td>0</td>\n",
              "      <td>0</td>\n",
              "      <td>0</td>\n",
              "      <td>0</td>\n",
              "      <td>0</td>\n",
              "      <td>0</td>\n",
              "      <td>0.00000</td>\n",
              "      <td>0.00000</td>\n",
              "      <td>0.00000</td>\n",
              "      <td>0.00000</td>\n",
              "    </tr>\n",
              "    <tr>\n",
              "      <th>27</th>\n",
              "      <td>012a5620-d082-4bb8-9b3b-e72d8938000c</td>\n",
              "      <td>133</td>\n",
              "      <td>613</td>\n",
              "      <td>275</td>\n",
              "      <td>275</td>\n",
              "      <td>1</td>\n",
              "      <td>270</td>\n",
              "      <td>750</td>\n",
              "      <td>0.19615</td>\n",
              "      <td>0.26442</td>\n",
              "      <td>0.42692</td>\n",
              "      <td>0.26442</td>\n",
              "    </tr>\n",
              "    <tr>\n",
              "      <th>28</th>\n",
              "      <td>012a5620-d082-4bb8-9b3b-e72d8938000c</td>\n",
              "      <td>678</td>\n",
              "      <td>427</td>\n",
              "      <td>224</td>\n",
              "      <td>340</td>\n",
              "      <td>1</td>\n",
              "      <td>790</td>\n",
              "      <td>597</td>\n",
              "      <td>0.43365</td>\n",
              "      <td>0.21538</td>\n",
              "      <td>0.36923</td>\n",
              "      <td>0.32692</td>\n",
              "    </tr>\n",
              "    <tr>\n",
              "      <th>29</th>\n",
              "      <td>014b7b58-f641-4477-8bbc-ae6f337745d6</td>\n",
              "      <td>0</td>\n",
              "      <td>0</td>\n",
              "      <td>0</td>\n",
              "      <td>0</td>\n",
              "      <td>0</td>\n",
              "      <td>0</td>\n",
              "      <td>0</td>\n",
              "      <td>0.00000</td>\n",
              "      <td>0.00000</td>\n",
              "      <td>0.00000</td>\n",
              "      <td>0.00000</td>\n",
              "    </tr>\n",
              "  </tbody>\n",
              "</table>\n",
              "</div>"
            ],
            "text/plain": [
              "                               patientId    x    y  width  height  Target  \\\n",
              "0   0004cfab-14fd-4e49-80ba-63a80b6bddd6    0    0      0       0       0   \n",
              "1   00313ee0-9eaa-42f4-b0ab-c148ed3241cd    0    0      0       0       0   \n",
              "2   00322d4d-1c29-4943-afc9-b6754be640eb    0    0      0       0       0   \n",
              "3   003d8fa0-6bf1-40ed-b54c-ac657f8495c5    0    0      0       0       0   \n",
              "4   00436515-870c-4b36-a041-de91049b9ab4  264  152    213     379       1   \n",
              "5   00436515-870c-4b36-a041-de91049b9ab4  562  152    256     453       1   \n",
              "6   00569f44-917d-4c86-a842-81832af98c30    0    0      0       0       0   \n",
              "7   006cec2e-6ce2-4549-bffa-eadfcd1e9970    0    0      0       0       0   \n",
              "8   00704310-78a8-4b38-8475-49f4573b2dbb  323  577    160     104       1   \n",
              "9   00704310-78a8-4b38-8475-49f4573b2dbb  695  575    162     137       1   \n",
              "10  008c19e8-a820-403a-930a-bc74a4053664    0    0      0       0       0   \n",
              "11  009482dc-3db5-48d4-8580-5c89c4f01334    0    0      0       0       0   \n",
              "12  009eb222-eabc-4150-8121-d5a6d06b8ebf    0    0      0       0       0   \n",
              "13  00a85be6-6eb0-421d-8acf-ff2dc0007e8a    0    0      0       0       0   \n",
              "14  00aecb01-a116-45a2-956c-08d2fa55433f  288  322     94     135       1   \n",
              "15  00aecb01-a116-45a2-956c-08d2fa55433f  547  299    119     165       1   \n",
              "16  00c0b293-48e7-4e16-ac76-9269ba535a62  306  544    168     244       1   \n",
              "17  00c0b293-48e7-4e16-ac76-9269ba535a62  650  511    206     284       1   \n",
              "18  00d7c36e-3cdf-4df6-ac03-6c30cdc8e85b    0    0      0       0       0   \n",
              "19  00f08de1-517e-4652-a04f-d1dc9ee48593  181  184    206     506       1   \n",
              "20  00f08de1-517e-4652-a04f-d1dc9ee48593  571  275    230     476       1   \n",
              "21  00f87de5-5fe0-4921-93ea-914d7e683266    0    0      0       0       0   \n",
              "22  0100515c-5204-4f31-98e0-f35e4b00004a  703  416     84      77       1   \n",
              "23  01027bc3-dc40-4165-a6c3-d6be2cb7ca34    0    0      0       0       0   \n",
              "24  010ccb9f-6d46-4380-af11-84f87397a1b8  652  437    161     293       1   \n",
              "25  010ccb9f-6d46-4380-af11-84f87397a1b8  301  405    141     279       1   \n",
              "26  011d6f51-b732-4d45-a84d-90477325ef2d    0    0      0       0       0   \n",
              "27  012a5620-d082-4bb8-9b3b-e72d8938000c  133  613    275     275       1   \n",
              "28  012a5620-d082-4bb8-9b3b-e72d8938000c  678  427    224     340       1   \n",
              "29  014b7b58-f641-4477-8bbc-ae6f337745d6    0    0      0       0       0   \n",
              "\n",
              "    x_center  y_center  x_center_norm  width_norm  y_center_norm  height_norm  \n",
              "0          0         0        0.00000     0.00000        0.00000      0.00000  \n",
              "1          0         0        0.00000     0.00000        0.00000      0.00000  \n",
              "2          0         0        0.00000     0.00000        0.00000      0.00000  \n",
              "3          0         0        0.00000     0.00000        0.00000      0.00000  \n",
              "4        370       341        0.22981     0.20481        0.25577      0.36442  \n",
              "5        690       378        0.39327     0.24615        0.29135      0.43558  \n",
              "6          0         0        0.00000     0.00000        0.00000      0.00000  \n",
              "7          0         0        0.00000     0.00000        0.00000      0.00000  \n",
              "8        403       629        0.23269     0.15385        0.32788      0.10000  \n",
              "9        776       643        0.41250     0.15577        0.34231      0.13173  \n",
              "10         0         0        0.00000     0.00000        0.00000      0.00000  \n",
              "11         0         0        0.00000     0.00000        0.00000      0.00000  \n",
              "12         0         0        0.00000     0.00000        0.00000      0.00000  \n",
              "13         0         0        0.00000     0.00000        0.00000      0.00000  \n",
              "14       335       389        0.18365     0.09038        0.22019      0.12981  \n",
              "15       606       381        0.32019     0.11442        0.22308      0.15865  \n",
              "16       390       666        0.22788     0.16154        0.37885      0.23462  \n",
              "17       753       653        0.41154     0.19808        0.38269      0.27308  \n",
              "18         0         0        0.00000     0.00000        0.00000      0.00000  \n",
              "19       284       437        0.18654     0.19808        0.33173      0.48654  \n",
              "20       686       513        0.38558     0.22115        0.36154      0.45769  \n",
              "21         0         0        0.00000     0.00000        0.00000      0.00000  \n",
              "22       745       454        0.37885     0.08077        0.23750      0.07404  \n",
              "23         0         0        0.00000     0.00000        0.00000      0.00000  \n",
              "24       732       583        0.39135     0.15481        0.35096      0.28173  \n",
              "25       371       544        0.21250     0.13558        0.32885      0.26827  \n",
              "26         0         0        0.00000     0.00000        0.00000      0.00000  \n",
              "27       270       750        0.19615     0.26442        0.42692      0.26442  \n",
              "28       790       597        0.43365     0.21538        0.36923      0.32692  \n",
              "29         0         0        0.00000     0.00000        0.00000      0.00000  "
            ]
          },
          "metadata": {
            "tags": []
          },
          "execution_count": 3
        }
      ]
    },
    {
      "cell_type": "code",
      "metadata": {
        "id": "McEG7Nxj-gcv"
      },
      "source": [
        "df2 = pd.read_csv(\"D://YOLO-Vidya//stage_2_train_labels.csv\")\n",
        "\n",
        "train_images = os.listdir(\"D://YOLO-Vidya//images//train\")\n",
        "valid_images = os.listdir(\"D://YOLO-Vidya//images//valid\")\n",
        "\n",
        "label_path = \"D:\\\\YOLO-Vidya\\\\labels\""
      ],
      "execution_count": null,
      "outputs": []
    },
    {
      "cell_type": "code",
      "metadata": {
        "id": "QNy16Owx-gcv"
      },
      "source": [
        "# Preparing a .txt file for each image with labels and coordinates of the same\n",
        "\n",
        "for image in train_images:\n",
        "    yolo_list = []\n",
        "    img = image[:-4]\n",
        "    for _,row in df2[df2['patientId'] == img].iterrows():\n",
        "        yolo_list.append([row.Target, row.x_center_norm, row.y_center_norm, row.width_norm, row.height_norm])\n",
        "\n",
        "    yolo_list = np.array(yolo_list)\n",
        "    txt_filename = label_path+\"\\\\train\\\\\"+img+\".txt\"\n",
        "    np.savetxt(txt_filename, yolo_list, fmt=[\"%d\", \"%f\", \"%f\", \"%f\", \"%f\"])\n"
      ],
      "execution_count": null,
      "outputs": []
    },
    {
      "cell_type": "code",
      "metadata": {
        "id": "PPWp7aoW-gcv"
      },
      "source": [
        "for image in valid_images:\n",
        "    yolo_list = []\n",
        "    img = image[:-4]\n",
        "    for _,row in df2[df2['patientId'] == img].iterrows():\n",
        "        yolo_list.append([row.Target, row.x_center_norm, row.y_center_norm, row.width_norm, row.height_norm])\n",
        "\n",
        "    yolo_list = np.array(yolo_list)\n",
        "    txt_filename = label_path+\"\\\\valid\\\\\"+img+\".txt\"\n",
        "    np.savetxt(txt_filename, yolo_list, fmt=[\"%d\", \"%f\", \"%f\", \"%f\", \"%f\"])\n"
      ],
      "execution_count": null,
      "outputs": []
    },
    {
      "cell_type": "code",
      "metadata": {
        "id": "em1qQaLz-gcv",
        "outputId": "5c2e6e90-570a-40be-a70e-876aa095ee67"
      },
      "source": [
        "print(len(train_images))\n",
        "print(len(valid_images))\n",
        "\n",
        "print(len(os.listdir(\"D:\\\\YOLO-Vidya\\\\labels\\\\train\")))\n",
        "print(len(os.listdir(\"D:\\\\YOLO-Vidya\\\\labels\\\\valid\")))"
      ],
      "execution_count": null,
      "outputs": [
        {
          "output_type": "stream",
          "text": [
            "11891\n",
            "2972\n",
            "11891\n",
            "2972\n"
          ],
          "name": "stdout"
        }
      ]
    },
    {
      "cell_type": "code",
      "metadata": {
        "id": "WCqFlHoW-gcw"
      },
      "source": [
        "### END OF DATA PREPARATION ###"
      ],
      "execution_count": null,
      "outputs": []
    },
    {
      "cell_type": "code",
      "metadata": {
        "id": "1foUNEW7-gcw"
      },
      "source": [
        ""
      ],
      "execution_count": null,
      "outputs": []
    }
  ]
}